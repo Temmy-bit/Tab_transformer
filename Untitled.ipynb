{
 "cells": [
  {
   "cell_type": "code",
   "execution_count": 490,
   "id": "14b002f5-e812-448f-96ab-5f8598ffa8e7",
   "metadata": {},
   "outputs": [],
   "source": [
    "import pandas as pd\n",
    "import seaborn as sns\n",
    "import matplotlib.pyplot as plt\n",
    "import torch\n",
    "import torch.nn as nn\n",
    "from torch.utils.data import Dataset, DataLoader\n",
    "from sklearn.model_selection import train_test_split\n",
    "from sklearn.preprocessing import LabelEncoder\n",
    "from sklearn.metrics import r2_score,mean_squared_error"
   ]
  },
  {
   "cell_type": "code",
   "execution_count": 491,
   "id": "b3294c31-4daa-4517-b5cb-85ae6a78bfdf",
   "metadata": {},
   "outputs": [],
   "source": [
    "train_df = pd.read_csv(\"train (2).csv\")\n",
    "test_df = pd.read_csv(\"test (2).csv\")"
   ]
  },
  {
   "cell_type": "code",
   "execution_count": 492,
   "id": "c7a43b94-ce2c-4a2a-85ea-9ea6975389e2",
   "metadata": {},
   "outputs": [],
   "source": [
    "label = train_df[\"SalePrice\"]\n",
    "train_df.drop(\"SalePrice\",axis=1,inplace=True)\n",
    "train_df.drop(\"Id\",inplace=True,axis=1)\n",
    "test_df.drop(\"Id\",inplace=True,axis=1)"
   ]
  },
  {
   "cell_type": "code",
   "execution_count": 493,
   "id": "64f65a07-3044-40a3-98f0-0677d4c5aad9",
   "metadata": {},
   "outputs": [
    {
     "name": "stdout",
     "output_type": "stream",
     "text": [
      "Number of categorical features: 43\n",
      "Number of numeric features: 36\n"
     ]
    }
   ],
   "source": [
    "# check the numbers of categorical features in train_df\n",
    "\n",
    "cat_cols = train_df.select_dtypes(include='object').columns.tolist()\n",
    "print(f\"Number of categorical features: {len(cat_cols)}\")\n",
    "\n",
    "# prompt: to chech the numbers of numeric features in train_df\n",
    "\n",
    "numeric_cols = train_df.select_dtypes(include=['float64', 'int64']).columns.tolist()\n",
    "print(f\"Number of numeric features: {len(numeric_cols)}\")"
   ]
  },
  {
   "cell_type": "code",
   "execution_count": 494,
   "id": "29e5a49a-c0b0-4330-8550-b4e041775ccc",
   "metadata": {},
   "outputs": [],
   "source": [
    "combined_df = pd.concat([train_df, test_df], axis=0)"
   ]
  },
  {
   "cell_type": "code",
   "execution_count": 495,
   "id": "1847558c-4f5a-4f1a-b683-842290ae7616",
   "metadata": {},
   "outputs": [],
   "source": [
    "def cat_num(data):\n",
    "    # check the numbers of categorical features in train_df\n",
    "\n",
    "    cat_cols = data.select_dtypes(include='object').columns.tolist()\n",
    "    print(f\"Number of categorical features: {len(cat_cols)}\")\n",
    "    cat_col_indices = list(data.columns.get_loc(col) for col in cat_cols)\n",
    "\n",
    "    # prompt: to chech the numbers of numeric features in train_df\n",
    "\n",
    "    numeric_cols = data.select_dtypes(include=['float64', 'int64']).columns.tolist()\n",
    "    print(f\"Number of numeric features: {len(numeric_cols)}\")\n",
    "    numeric_cols_indices = list(data.columns.get_loc(col) for col in numeric_cols)\n",
    "    \n",
    "  \n",
    "    return cat_col_indices, numeric_cols_indices"
   ]
  },
  {
   "cell_type": "code",
   "execution_count": 496,
   "id": "73a2407d-e327-4d34-972b-65307b246149",
   "metadata": {},
   "outputs": [
    {
     "name": "stdout",
     "output_type": "stream",
     "text": [
      "Number of categorical features: 43\n",
      "Number of numeric features: 36\n"
     ]
    }
   ],
   "source": [
    "cat_col_indices, numeric_cols_indices = cat_num(combined_df)"
   ]
  },
  {
   "cell_type": "code",
   "execution_count": 497,
   "id": "5767c98e-5954-4eb4-a544-29caa70f7cae",
   "metadata": {},
   "outputs": [],
   "source": [
    "device = \"cuda\" if torch.cuda.is_available() else \"cpu\""
   ]
  },
  {
   "cell_type": "code",
   "execution_count": 498,
   "id": "2f00928f-c9df-48bc-8410-c7b94b71d47d",
   "metadata": {},
   "outputs": [
    {
     "data": {
      "text/html": [
       "<div>\n",
       "<style scoped>\n",
       "    .dataframe tbody tr th:only-of-type {\n",
       "        vertical-align: middle;\n",
       "    }\n",
       "\n",
       "    .dataframe tbody tr th {\n",
       "        vertical-align: top;\n",
       "    }\n",
       "\n",
       "    .dataframe thead th {\n",
       "        text-align: right;\n",
       "    }\n",
       "</style>\n",
       "<table border=\"1\" class=\"dataframe\">\n",
       "  <thead>\n",
       "    <tr style=\"text-align: right;\">\n",
       "      <th></th>\n",
       "      <th>MSZoning</th>\n",
       "      <th>Street</th>\n",
       "      <th>Alley</th>\n",
       "      <th>LotShape</th>\n",
       "      <th>LandContour</th>\n",
       "      <th>Utilities</th>\n",
       "      <th>LotConfig</th>\n",
       "      <th>LandSlope</th>\n",
       "      <th>Neighborhood</th>\n",
       "      <th>Condition1</th>\n",
       "      <th>...</th>\n",
       "      <th>GarageType</th>\n",
       "      <th>GarageFinish</th>\n",
       "      <th>GarageQual</th>\n",
       "      <th>GarageCond</th>\n",
       "      <th>PavedDrive</th>\n",
       "      <th>PoolQC</th>\n",
       "      <th>Fence</th>\n",
       "      <th>MiscFeature</th>\n",
       "      <th>SaleType</th>\n",
       "      <th>SaleCondition</th>\n",
       "    </tr>\n",
       "  </thead>\n",
       "  <tbody>\n",
       "    <tr>\n",
       "      <th>0</th>\n",
       "      <td>RL</td>\n",
       "      <td>Pave</td>\n",
       "      <td>NaN</td>\n",
       "      <td>Reg</td>\n",
       "      <td>Lvl</td>\n",
       "      <td>AllPub</td>\n",
       "      <td>Inside</td>\n",
       "      <td>Gtl</td>\n",
       "      <td>CollgCr</td>\n",
       "      <td>Norm</td>\n",
       "      <td>...</td>\n",
       "      <td>Attchd</td>\n",
       "      <td>RFn</td>\n",
       "      <td>TA</td>\n",
       "      <td>TA</td>\n",
       "      <td>Y</td>\n",
       "      <td>NaN</td>\n",
       "      <td>NaN</td>\n",
       "      <td>NaN</td>\n",
       "      <td>WD</td>\n",
       "      <td>Normal</td>\n",
       "    </tr>\n",
       "    <tr>\n",
       "      <th>1</th>\n",
       "      <td>RL</td>\n",
       "      <td>Pave</td>\n",
       "      <td>NaN</td>\n",
       "      <td>Reg</td>\n",
       "      <td>Lvl</td>\n",
       "      <td>AllPub</td>\n",
       "      <td>FR2</td>\n",
       "      <td>Gtl</td>\n",
       "      <td>Veenker</td>\n",
       "      <td>Feedr</td>\n",
       "      <td>...</td>\n",
       "      <td>Attchd</td>\n",
       "      <td>RFn</td>\n",
       "      <td>TA</td>\n",
       "      <td>TA</td>\n",
       "      <td>Y</td>\n",
       "      <td>NaN</td>\n",
       "      <td>NaN</td>\n",
       "      <td>NaN</td>\n",
       "      <td>WD</td>\n",
       "      <td>Normal</td>\n",
       "    </tr>\n",
       "    <tr>\n",
       "      <th>2</th>\n",
       "      <td>RL</td>\n",
       "      <td>Pave</td>\n",
       "      <td>NaN</td>\n",
       "      <td>IR1</td>\n",
       "      <td>Lvl</td>\n",
       "      <td>AllPub</td>\n",
       "      <td>Inside</td>\n",
       "      <td>Gtl</td>\n",
       "      <td>CollgCr</td>\n",
       "      <td>Norm</td>\n",
       "      <td>...</td>\n",
       "      <td>Attchd</td>\n",
       "      <td>RFn</td>\n",
       "      <td>TA</td>\n",
       "      <td>TA</td>\n",
       "      <td>Y</td>\n",
       "      <td>NaN</td>\n",
       "      <td>NaN</td>\n",
       "      <td>NaN</td>\n",
       "      <td>WD</td>\n",
       "      <td>Normal</td>\n",
       "    </tr>\n",
       "    <tr>\n",
       "      <th>3</th>\n",
       "      <td>RL</td>\n",
       "      <td>Pave</td>\n",
       "      <td>NaN</td>\n",
       "      <td>IR1</td>\n",
       "      <td>Lvl</td>\n",
       "      <td>AllPub</td>\n",
       "      <td>Corner</td>\n",
       "      <td>Gtl</td>\n",
       "      <td>Crawfor</td>\n",
       "      <td>Norm</td>\n",
       "      <td>...</td>\n",
       "      <td>Detchd</td>\n",
       "      <td>Unf</td>\n",
       "      <td>TA</td>\n",
       "      <td>TA</td>\n",
       "      <td>Y</td>\n",
       "      <td>NaN</td>\n",
       "      <td>NaN</td>\n",
       "      <td>NaN</td>\n",
       "      <td>WD</td>\n",
       "      <td>Abnorml</td>\n",
       "    </tr>\n",
       "    <tr>\n",
       "      <th>4</th>\n",
       "      <td>RL</td>\n",
       "      <td>Pave</td>\n",
       "      <td>NaN</td>\n",
       "      <td>IR1</td>\n",
       "      <td>Lvl</td>\n",
       "      <td>AllPub</td>\n",
       "      <td>FR2</td>\n",
       "      <td>Gtl</td>\n",
       "      <td>NoRidge</td>\n",
       "      <td>Norm</td>\n",
       "      <td>...</td>\n",
       "      <td>Attchd</td>\n",
       "      <td>RFn</td>\n",
       "      <td>TA</td>\n",
       "      <td>TA</td>\n",
       "      <td>Y</td>\n",
       "      <td>NaN</td>\n",
       "      <td>NaN</td>\n",
       "      <td>NaN</td>\n",
       "      <td>WD</td>\n",
       "      <td>Normal</td>\n",
       "    </tr>\n",
       "  </tbody>\n",
       "</table>\n",
       "<p>5 rows × 43 columns</p>\n",
       "</div>"
      ],
      "text/plain": [
       "  MSZoning Street Alley LotShape LandContour Utilities LotConfig LandSlope  \\\n",
       "0       RL   Pave   NaN      Reg         Lvl    AllPub    Inside       Gtl   \n",
       "1       RL   Pave   NaN      Reg         Lvl    AllPub       FR2       Gtl   \n",
       "2       RL   Pave   NaN      IR1         Lvl    AllPub    Inside       Gtl   \n",
       "3       RL   Pave   NaN      IR1         Lvl    AllPub    Corner       Gtl   \n",
       "4       RL   Pave   NaN      IR1         Lvl    AllPub       FR2       Gtl   \n",
       "\n",
       "  Neighborhood Condition1  ... GarageType GarageFinish GarageQual GarageCond  \\\n",
       "0      CollgCr       Norm  ...     Attchd          RFn         TA         TA   \n",
       "1      Veenker      Feedr  ...     Attchd          RFn         TA         TA   \n",
       "2      CollgCr       Norm  ...     Attchd          RFn         TA         TA   \n",
       "3      Crawfor       Norm  ...     Detchd          Unf         TA         TA   \n",
       "4      NoRidge       Norm  ...     Attchd          RFn         TA         TA   \n",
       "\n",
       "  PavedDrive PoolQC Fence MiscFeature SaleType SaleCondition  \n",
       "0          Y    NaN   NaN         NaN       WD        Normal  \n",
       "1          Y    NaN   NaN         NaN       WD        Normal  \n",
       "2          Y    NaN   NaN         NaN       WD        Normal  \n",
       "3          Y    NaN   NaN         NaN       WD       Abnorml  \n",
       "4          Y    NaN   NaN         NaN       WD        Normal  \n",
       "\n",
       "[5 rows x 43 columns]"
      ]
     },
     "execution_count": 498,
     "metadata": {},
     "output_type": "execute_result"
    }
   ],
   "source": [
    "cat_col_indices_values_df = pd.DataFrame(combined_df.iloc[:, cat_col_indices].values, columns=combined_df.iloc[:, cat_col_indices].columns)\n",
    "cat_col_indices_values_df.head()"
   ]
  },
  {
   "cell_type": "code",
   "execution_count": 499,
   "id": "cd63b7a8-f653-4e43-846f-f0c5a85ccc6c",
   "metadata": {},
   "outputs": [
    {
     "data": {
      "text/html": [
       "<div>\n",
       "<style scoped>\n",
       "    .dataframe tbody tr th:only-of-type {\n",
       "        vertical-align: middle;\n",
       "    }\n",
       "\n",
       "    .dataframe tbody tr th {\n",
       "        vertical-align: top;\n",
       "    }\n",
       "\n",
       "    .dataframe thead th {\n",
       "        text-align: right;\n",
       "    }\n",
       "</style>\n",
       "<table border=\"1\" class=\"dataframe\">\n",
       "  <thead>\n",
       "    <tr style=\"text-align: right;\">\n",
       "      <th></th>\n",
       "      <th>MSSubClass</th>\n",
       "      <th>LotFrontage</th>\n",
       "      <th>LotArea</th>\n",
       "      <th>OverallQual</th>\n",
       "      <th>OverallCond</th>\n",
       "      <th>YearBuilt</th>\n",
       "      <th>YearRemodAdd</th>\n",
       "      <th>MasVnrArea</th>\n",
       "      <th>BsmtFinSF1</th>\n",
       "      <th>BsmtFinSF2</th>\n",
       "      <th>...</th>\n",
       "      <th>GarageArea</th>\n",
       "      <th>WoodDeckSF</th>\n",
       "      <th>OpenPorchSF</th>\n",
       "      <th>EnclosedPorch</th>\n",
       "      <th>3SsnPorch</th>\n",
       "      <th>ScreenPorch</th>\n",
       "      <th>PoolArea</th>\n",
       "      <th>MiscVal</th>\n",
       "      <th>MoSold</th>\n",
       "      <th>YrSold</th>\n",
       "    </tr>\n",
       "  </thead>\n",
       "  <tbody>\n",
       "    <tr>\n",
       "      <th>0</th>\n",
       "      <td>60.0</td>\n",
       "      <td>65.0</td>\n",
       "      <td>8450.0</td>\n",
       "      <td>7.0</td>\n",
       "      <td>5.0</td>\n",
       "      <td>2003.0</td>\n",
       "      <td>2003.0</td>\n",
       "      <td>196.0</td>\n",
       "      <td>706.0</td>\n",
       "      <td>0.0</td>\n",
       "      <td>...</td>\n",
       "      <td>548.0</td>\n",
       "      <td>0.0</td>\n",
       "      <td>61.0</td>\n",
       "      <td>0.0</td>\n",
       "      <td>0.0</td>\n",
       "      <td>0.0</td>\n",
       "      <td>0.0</td>\n",
       "      <td>0.0</td>\n",
       "      <td>2.0</td>\n",
       "      <td>2008.0</td>\n",
       "    </tr>\n",
       "    <tr>\n",
       "      <th>1</th>\n",
       "      <td>20.0</td>\n",
       "      <td>80.0</td>\n",
       "      <td>9600.0</td>\n",
       "      <td>6.0</td>\n",
       "      <td>8.0</td>\n",
       "      <td>1976.0</td>\n",
       "      <td>1976.0</td>\n",
       "      <td>0.0</td>\n",
       "      <td>978.0</td>\n",
       "      <td>0.0</td>\n",
       "      <td>...</td>\n",
       "      <td>460.0</td>\n",
       "      <td>298.0</td>\n",
       "      <td>0.0</td>\n",
       "      <td>0.0</td>\n",
       "      <td>0.0</td>\n",
       "      <td>0.0</td>\n",
       "      <td>0.0</td>\n",
       "      <td>0.0</td>\n",
       "      <td>5.0</td>\n",
       "      <td>2007.0</td>\n",
       "    </tr>\n",
       "    <tr>\n",
       "      <th>2</th>\n",
       "      <td>60.0</td>\n",
       "      <td>68.0</td>\n",
       "      <td>11250.0</td>\n",
       "      <td>7.0</td>\n",
       "      <td>5.0</td>\n",
       "      <td>2001.0</td>\n",
       "      <td>2002.0</td>\n",
       "      <td>162.0</td>\n",
       "      <td>486.0</td>\n",
       "      <td>0.0</td>\n",
       "      <td>...</td>\n",
       "      <td>608.0</td>\n",
       "      <td>0.0</td>\n",
       "      <td>42.0</td>\n",
       "      <td>0.0</td>\n",
       "      <td>0.0</td>\n",
       "      <td>0.0</td>\n",
       "      <td>0.0</td>\n",
       "      <td>0.0</td>\n",
       "      <td>9.0</td>\n",
       "      <td>2008.0</td>\n",
       "    </tr>\n",
       "    <tr>\n",
       "      <th>3</th>\n",
       "      <td>70.0</td>\n",
       "      <td>60.0</td>\n",
       "      <td>9550.0</td>\n",
       "      <td>7.0</td>\n",
       "      <td>5.0</td>\n",
       "      <td>1915.0</td>\n",
       "      <td>1970.0</td>\n",
       "      <td>0.0</td>\n",
       "      <td>216.0</td>\n",
       "      <td>0.0</td>\n",
       "      <td>...</td>\n",
       "      <td>642.0</td>\n",
       "      <td>0.0</td>\n",
       "      <td>35.0</td>\n",
       "      <td>272.0</td>\n",
       "      <td>0.0</td>\n",
       "      <td>0.0</td>\n",
       "      <td>0.0</td>\n",
       "      <td>0.0</td>\n",
       "      <td>2.0</td>\n",
       "      <td>2006.0</td>\n",
       "    </tr>\n",
       "    <tr>\n",
       "      <th>4</th>\n",
       "      <td>60.0</td>\n",
       "      <td>84.0</td>\n",
       "      <td>14260.0</td>\n",
       "      <td>8.0</td>\n",
       "      <td>5.0</td>\n",
       "      <td>2000.0</td>\n",
       "      <td>2000.0</td>\n",
       "      <td>350.0</td>\n",
       "      <td>655.0</td>\n",
       "      <td>0.0</td>\n",
       "      <td>...</td>\n",
       "      <td>836.0</td>\n",
       "      <td>192.0</td>\n",
       "      <td>84.0</td>\n",
       "      <td>0.0</td>\n",
       "      <td>0.0</td>\n",
       "      <td>0.0</td>\n",
       "      <td>0.0</td>\n",
       "      <td>0.0</td>\n",
       "      <td>12.0</td>\n",
       "      <td>2008.0</td>\n",
       "    </tr>\n",
       "  </tbody>\n",
       "</table>\n",
       "<p>5 rows × 36 columns</p>\n",
       "</div>"
      ],
      "text/plain": [
       "   MSSubClass  LotFrontage  LotArea  OverallQual  OverallCond  YearBuilt  \\\n",
       "0        60.0         65.0   8450.0          7.0          5.0     2003.0   \n",
       "1        20.0         80.0   9600.0          6.0          8.0     1976.0   \n",
       "2        60.0         68.0  11250.0          7.0          5.0     2001.0   \n",
       "3        70.0         60.0   9550.0          7.0          5.0     1915.0   \n",
       "4        60.0         84.0  14260.0          8.0          5.0     2000.0   \n",
       "\n",
       "   YearRemodAdd  MasVnrArea  BsmtFinSF1  BsmtFinSF2  ...  GarageArea  \\\n",
       "0        2003.0       196.0       706.0         0.0  ...       548.0   \n",
       "1        1976.0         0.0       978.0         0.0  ...       460.0   \n",
       "2        2002.0       162.0       486.0         0.0  ...       608.0   \n",
       "3        1970.0         0.0       216.0         0.0  ...       642.0   \n",
       "4        2000.0       350.0       655.0         0.0  ...       836.0   \n",
       "\n",
       "   WoodDeckSF  OpenPorchSF  EnclosedPorch  3SsnPorch  ScreenPorch  PoolArea  \\\n",
       "0         0.0         61.0            0.0        0.0          0.0       0.0   \n",
       "1       298.0          0.0            0.0        0.0          0.0       0.0   \n",
       "2         0.0         42.0            0.0        0.0          0.0       0.0   \n",
       "3         0.0         35.0          272.0        0.0          0.0       0.0   \n",
       "4       192.0         84.0            0.0        0.0          0.0       0.0   \n",
       "\n",
       "   MiscVal  MoSold  YrSold  \n",
       "0      0.0     2.0  2008.0  \n",
       "1      0.0     5.0  2007.0  \n",
       "2      0.0     9.0  2008.0  \n",
       "3      0.0     2.0  2006.0  \n",
       "4      0.0    12.0  2008.0  \n",
       "\n",
       "[5 rows x 36 columns]"
      ]
     },
     "execution_count": 499,
     "metadata": {},
     "output_type": "execute_result"
    }
   ],
   "source": [
    "numeric_cols_indices_values_df = pd.DataFrame(combined_df.iloc[:, numeric_cols_indices].values, columns=combined_df.iloc[:, numeric_cols_indices].columns)\n",
    "numeric_cols_indices_values_df.head()"
   ]
  },
  {
   "cell_type": "code",
   "execution_count": 500,
   "id": "21dbe051-dc9c-4080-bea0-69260fa12da0",
   "metadata": {},
   "outputs": [
    {
     "name": "stdout",
     "output_type": "stream",
     "text": [
      "[['RL', 'RM', 'C (all)', 'FV', 'RH', nan], ['Pave', 'Grvl'], [nan, 'Grvl', 'Pave'], ['Reg', 'IR1', 'IR2', 'IR3'], ['Lvl', 'Bnk', 'Low', 'HLS'], ['AllPub', 'NoSeWa', nan], ['Inside', 'FR2', 'Corner', 'CulDSac', 'FR3'], ['Gtl', 'Mod', 'Sev'], ['CollgCr', 'Veenker', 'Crawfor', 'NoRidge', 'Mitchel', 'Somerst', 'NWAmes', 'OldTown', 'BrkSide', 'Sawyer', 'NridgHt', 'NAmes', 'SawyerW', 'IDOTRR', 'MeadowV', 'Edwards', 'Timber', 'Gilbert', 'StoneBr', 'ClearCr', 'NPkVill', 'Blmngtn', 'BrDale', 'SWISU', 'Blueste'], ['Norm', 'Feedr', 'PosN', 'Artery', 'RRAe', 'RRNn', 'RRAn', 'PosA', 'RRNe'], ['Norm', 'Artery', 'RRNn', 'Feedr', 'PosN', 'PosA', 'RRAn', 'RRAe'], ['1Fam', '2fmCon', 'Duplex', 'TwnhsE', 'Twnhs'], ['2Story', '1Story', '1.5Fin', '1.5Unf', 'SFoyer', 'SLvl', '2.5Unf', '2.5Fin'], ['Gable', 'Hip', 'Gambrel', 'Mansard', 'Flat', 'Shed'], ['CompShg', 'WdShngl', 'Metal', 'WdShake', 'Membran', 'Tar&Grv', 'Roll', 'ClyTile'], ['VinylSd', 'MetalSd', 'Wd Sdng', 'HdBoard', 'BrkFace', 'WdShing', 'CemntBd', 'Plywood', 'AsbShng', 'Stucco', 'BrkComm', 'AsphShn', 'Stone', 'ImStucc', 'CBlock', nan], ['VinylSd', 'MetalSd', 'Wd Shng', 'HdBoard', 'Plywood', 'Wd Sdng', 'CmentBd', 'BrkFace', 'Stucco', 'AsbShng', 'Brk Cmn', 'ImStucc', 'AsphShn', 'Stone', 'Other', 'CBlock', nan], ['BrkFace', nan, 'Stone', 'BrkCmn'], ['Gd', 'TA', 'Ex', 'Fa'], ['TA', 'Gd', 'Fa', 'Po', 'Ex'], ['PConc', 'CBlock', 'BrkTil', 'Wood', 'Slab', 'Stone'], ['Gd', 'TA', 'Ex', nan, 'Fa'], ['TA', 'Gd', nan, 'Fa', 'Po'], ['No', 'Gd', 'Mn', 'Av', nan], ['GLQ', 'ALQ', 'Unf', 'Rec', 'BLQ', nan, 'LwQ'], ['Unf', 'BLQ', nan, 'ALQ', 'Rec', 'LwQ', 'GLQ'], ['GasA', 'GasW', 'Grav', 'Wall', 'OthW', 'Floor'], ['Ex', 'Gd', 'TA', 'Fa', 'Po'], ['Y', 'N'], ['SBrkr', 'FuseF', 'FuseA', 'FuseP', 'Mix', nan], ['Gd', 'TA', 'Ex', 'Fa', nan], ['Typ', 'Min1', 'Maj1', 'Min2', 'Mod', 'Maj2', 'Sev', nan], [nan, 'TA', 'Gd', 'Fa', 'Ex', 'Po'], ['Attchd', 'Detchd', 'BuiltIn', 'CarPort', nan, 'Basment', '2Types'], ['RFn', 'Unf', 'Fin', nan], ['TA', 'Fa', 'Gd', nan, 'Ex', 'Po'], ['TA', 'Fa', nan, 'Gd', 'Po', 'Ex'], ['Y', 'N', 'P'], [nan, 'Ex', 'Fa', 'Gd'], [nan, 'MnPrv', 'GdWo', 'GdPrv', 'MnWw'], [nan, 'Shed', 'Gar2', 'Othr', 'TenC'], ['WD', 'New', 'COD', 'ConLD', 'ConLI', 'CWD', 'ConLw', 'Con', 'Oth', nan], ['Normal', 'Abnorml', 'Partial', 'AdjLand', 'Alloca', 'Family']]\n"
     ]
    }
   ],
   "source": [
    "kill = []\n",
    "for i in cat_col_indices_values_df.columns:\n",
    "    kill.append(list(cat_col_indices_values_df[i].unique()))\n",
    "\n",
    "print(kill)"
   ]
  },
  {
   "cell_type": "code",
   "execution_count": 501,
   "id": "4bf0bac9-1169-4f51-879b-16f2c8f95e35",
   "metadata": {},
   "outputs": [
    {
     "name": "stdout",
     "output_type": "stream",
     "text": [
      "274\n"
     ]
    }
   ],
   "source": [
    "counter = 0\n",
    "for i in kill:\n",
    "    one = len(i)\n",
    "    # print(one)\n",
    "    counter += one\n",
    "    \n",
    "print(counter)"
   ]
  },
  {
   "cell_type": "code",
   "execution_count": 502,
   "id": "9528fc5a-fc3d-4b57-b96b-278cabde3446",
   "metadata": {},
   "outputs": [
    {
     "name": "stdout",
     "output_type": "stream",
     "text": [
      "{'RL': 0, 'RM': 1, 'C (all)': 2, 'FV': 3, 'RH': 4, nan: 267, 'Pave': 10, 'Grvl': 9, 'Reg': 11, 'IR1': 12, 'IR2': 13, 'IR3': 14, 'Lvl': 15, 'Bnk': 16, 'Low': 17, 'HLS': 18, 'AllPub': 19, 'NoSeWa': 20, 'Inside': 22, 'FR2': 23, 'Corner': 24, 'CulDSac': 25, 'FR3': 26, 'Gtl': 27, 'Mod': 208, 'Sev': 210, 'CollgCr': 30, 'Veenker': 31, 'Crawfor': 32, 'NoRidge': 33, 'Mitchel': 34, 'Somerst': 35, 'NWAmes': 36, 'OldTown': 37, 'BrkSide': 38, 'Sawyer': 39, 'NridgHt': 40, 'NAmes': 41, 'SawyerW': 42, 'IDOTRR': 43, 'MeadowV': 44, 'Edwards': 45, 'Timber': 46, 'Gilbert': 47, 'StoneBr': 48, 'ClearCr': 49, 'NPkVill': 50, 'Blmngtn': 51, 'BrDale': 52, 'SWISU': 53, 'Blueste': 54, 'Norm': 64, 'Feedr': 67, 'PosN': 68, 'Artery': 65, 'RRAe': 71, 'RRNn': 66, 'RRAn': 70, 'PosA': 69, 'RRNe': 63, '1Fam': 72, '2fmCon': 73, 'Duplex': 74, 'TwnhsE': 75, 'Twnhs': 76, '2Story': 77, '1Story': 78, '1.5Fin': 79, '1.5Unf': 80, 'SFoyer': 81, 'SLvl': 82, '2.5Unf': 83, '2.5Fin': 84, 'Gable': 85, 'Hip': 86, 'Gambrel': 87, 'Mansard': 88, 'Flat': 89, 'Shed': 254, 'CompShg': 91, 'WdShngl': 92, 'Metal': 93, 'WdShake': 94, 'Membran': 95, 'Tar&Grv': 96, 'Roll': 97, 'ClyTile': 98, 'VinylSd': 115, 'MetalSd': 116, 'Wd Sdng': 120, 'HdBoard': 118, 'BrkFace': 132, 'WdShing': 104, 'CemntBd': 105, 'Plywood': 119, 'AsbShng': 124, 'Stucco': 123, 'BrkComm': 109, 'AsphShn': 127, 'Stone': 150, 'ImStucc': 126, 'CBlock': 146, 'Wd Shng': 117, 'CmentBd': 121, 'Brk Cmn': 125, 'Other': 129, 'BrkCmn': 135, 'Gd': 247, 'TA': 235, 'Ex': 245, 'Fa': 246, 'Po': 239, 'PConc': 145, 'BrkTil': 147, 'Wood': 148, 'Slab': 149, 'No': 161, 'Mn': 163, 'Av': 164, 'GLQ': 179, 'ALQ': 176, 'Unf': 226, 'Rec': 177, 'BLQ': 174, 'LwQ': 178, 'GasA': 180, 'GasW': 181, 'Grav': 182, 'Wall': 183, 'OthW': 184, 'Floor': 185, 'Y': 241, 'N': 242, 'SBrkr': 193, 'FuseF': 194, 'FuseA': 195, 'FuseP': 196, 'Mix': 197, 'Typ': 204, 'Min1': 205, 'Maj1': 206, 'Min2': 207, 'Maj2': 209, 'Attchd': 218, 'Detchd': 219, 'BuiltIn': 220, 'CarPort': 221, 'Basment': 223, '2Types': 224, 'RFn': 225, 'Fin': 227, 'P': 243, 'MnPrv': 249, 'GdWo': 250, 'GdPrv': 251, 'MnWw': 252, 'Gar2': 255, 'Othr': 256, 'TenC': 257, 'WD': 258, 'New': 259, 'COD': 260, 'ConLD': 261, 'ConLI': 262, 'CWD': 263, 'ConLw': 264, 'Con': 265, 'Oth': 266, 'Normal': 268, 'Abnorml': 269, 'Partial': 270, 'AdjLand': 271, 'Alloca': 272, 'Family': 273}\n"
     ]
    }
   ],
   "source": [
    "feature_map = {}\n",
    "idx = 0\n",
    "\n",
    "# Iterate over each list of categories\n",
    "for category_list in kill:\n",
    "# Iterate over each category in the list\n",
    "    for category in category_list:\n",
    "        # Assign unique index to the category and update the index\n",
    "        feature_map[category] = idx\n",
    "        idx += 1\n",
    "\n",
    "print(feature_map)\n"
   ]
  },
  {
   "cell_type": "code",
   "execution_count": 503,
   "id": "ba6dddea-0e95-4618-bcb3-ee4878f5c392",
   "metadata": {},
   "outputs": [
    {
     "name": "stdout",
     "output_type": "stream",
     "text": [
      "   MSSubClass  MSZoning  LotFrontage  LotArea  Street  Alley  LotShape  \\\n",
      "0          60         0         65.0     8450      10    267        11   \n",
      "1          20         0         80.0     9600      10    267        11   \n",
      "2          60         0         68.0    11250      10    267        12   \n",
      "3          70         0         60.0     9550      10    267        12   \n",
      "4          60         0         84.0    14260      10    267        12   \n",
      "\n",
      "   LandContour  Utilities  LotConfig  ...  ScreenPorch  PoolArea  PoolQC  \\\n",
      "0           15         19         22  ...            0         0     267   \n",
      "1           15         19         23  ...            0         0     267   \n",
      "2           15         19         22  ...            0         0     267   \n",
      "3           15         19         24  ...            0         0     267   \n",
      "4           15         19         23  ...            0         0     267   \n",
      "\n",
      "   Fence  MiscFeature  MiscVal  MoSold  YrSold  SaleType  SaleCondition  \n",
      "0    267          267        0       2    2008       258            268  \n",
      "1    267          267        0       5    2007       258            268  \n",
      "2    267          267        0       9    2008       258            268  \n",
      "3    267          267        0       2    2006       258            269  \n",
      "4    267          267        0      12    2008       258            268  \n",
      "\n",
      "[5 rows x 79 columns]\n"
     ]
    }
   ],
   "source": [
    "# Map the values in train_df to numerical indices using feature_map\n",
    "combined_df = combined_df.applymap(lambda x: feature_map.get(x, x))\n",
    "\n",
    "print(combined_df.head())"
   ]
  },
  {
   "cell_type": "code",
   "execution_count": 533,
   "id": "1019d78e-65b9-476c-9d4c-6fc77dc3bb3d",
   "metadata": {},
   "outputs": [],
   "source": [
    "# import torch.nn.functional as F\n",
    "\n",
    "class EncoderLayer(nn.Module):\n",
    "    def __init__(self, d_model, n_heads, d_ff, dropout=0.1):\n",
    "        super(EncoderLayer, self).__init__()\n",
    "        self.self_attention = nn.MultiheadAttention(d_model, n_heads, dropout=dropout)\n",
    "        self.dropout1 = nn.Dropout(dropout)\n",
    "        self.norm1 = nn.LayerNorm(d_model)\n",
    "        self.ffn = nn.Sequential(\n",
    "            nn.Linear(d_model, d_ff),\n",
    "            nn.ReLU(),\n",
    "            nn.Linear(d_ff, d_model)\n",
    "        )\n",
    "        self.dropout2 = nn.Dropout(dropout)\n",
    "        self.norm2 = nn.LayerNorm(d_model)\n",
    "\n",
    "    def forward(self, src, src_mask=None):\n",
    "        src2, _ = self.self_attention(src, src, src, attn_mask=src_mask)\n",
    "        src = src + self.dropout1(src2)\n",
    "        src = self.norm1(src)\n",
    "        src2 = self.ffn(src)\n",
    "        src = src + self.dropout2(src2)\n",
    "        src = self.norm2(src)\n",
    "        return src\n",
    "\n",
    "class Encoder(nn.Module):\n",
    "    def __init__(self, num_layers, d_model, n_heads, d_ff, dropout=0.1):\n",
    "        super(Encoder, self).__init__()\n",
    "        self.layers = nn.ModuleList([\n",
    "            EncoderLayer(d_model, n_heads, d_ff, dropout) for _ in range(num_layers)\n",
    "        ])\n",
    "\n",
    "    def forward(self, src, src_mask=None):\n",
    "        for layer in self.layers:\n",
    "            src = layer(src, src_mask)\n",
    "        return src"
   ]
  },
  {
   "cell_type": "code",
   "execution_count": 539,
   "id": "eefb904b-affc-4111-ad09-b78b945aa8c4",
   "metadata": {
    "tags": []
   },
   "outputs": [
    {
     "ename": "NameError",
     "evalue": "name 'mapped_cat_col_indices_values_df' is not defined",
     "output_type": "error",
     "traceback": [
      "\u001b[1;31m---------------------------------------------------------------------------\u001b[0m",
      "\u001b[1;31mNameError\u001b[0m                                 Traceback (most recent call last)",
      "Cell \u001b[1;32mIn[539], line 1\u001b[0m\n\u001b[1;32m----> 1\u001b[0m src_input \u001b[38;5;241m=\u001b[39m mapped_cat_col_indices_values_df\u001b[38;5;241m.\u001b[39mvalues\n\u001b[0;32m      2\u001b[0m src_input \u001b[38;5;241m=\u001b[39m torch\u001b[38;5;241m.\u001b[39mTensor(src_input)\n",
      "\u001b[1;31mNameError\u001b[0m: name 'mapped_cat_col_indices_values_df' is not defined"
     ]
    }
   ],
   "source": [
    "src_input = mapped_cat_col_indices_values_df.values\n",
    "src_input = torch.Tensor(src_input)"
   ]
  },
  {
   "cell_type": "code",
   "execution_count": 505,
   "id": "8ba3e91d-cc0b-4d11-8b18-b8b349f51f22",
   "metadata": {},
   "outputs": [],
   "source": [
    "# Example usage:\n",
    "# Define parameters\n",
    "num_layers = 6\n",
    "d_model = len(cat_cols)\n",
    "n_heads = 1\n",
    "d_ff = 2048\n",
    "dropout = 0.5\n",
    "src_seq_len = len(cat_cols)\n",
    "batch_size = 32\n",
    "vocab_size = counter"
   ]
  },
  {
   "cell_type": "code",
   "execution_count": 506,
   "id": "913b3d16-ba0b-422f-9d5c-db672f543919",
   "metadata": {},
   "outputs": [],
   "source": [
    "torch.manual_seed(42)\n",
    "\n",
    "# Create encoder instance\n",
    "encoder = Encoder(num_layers, d_model, n_heads, d_ff, dropout)\n",
    "\n",
    "# Example input tensor\n",
    "# src_input = torch.randn(batch_size, src_seq_len, d_model)"
   ]
  },
  {
   "cell_type": "code",
   "execution_count": 538,
   "id": "17470bee-b2bd-45b8-9aa5-2fae91d49b80",
   "metadata": {
    "tags": []
   },
   "outputs": [
    {
     "data": {
      "text/plain": [
       "==========================================================================================\n",
       "Layer (type:depth-idx)                   Output Shape              Param #\n",
       "==========================================================================================\n",
       "Encoder                                  [2919, 43]                --\n",
       "├─ModuleList: 1-1                        --                        --\n",
       "│    └─EncoderLayer: 2-1                 [2919, 43]                --\n",
       "│    │    └─MultiheadAttention: 3-1      [2919, 43]                7,568\n",
       "│    │    └─Dropout: 3-2                 [2919, 43]                --\n",
       "│    │    └─LayerNorm: 3-3               [2919, 43]                86\n",
       "│    │    └─Sequential: 3-4              [2919, 43]                178,219\n",
       "│    │    └─Dropout: 3-5                 [2919, 43]                --\n",
       "│    │    └─LayerNorm: 3-6               [2919, 43]                86\n",
       "│    └─EncoderLayer: 2-2                 [2919, 43]                --\n",
       "│    │    └─MultiheadAttention: 3-7      [2919, 43]                7,568\n",
       "│    │    └─Dropout: 3-8                 [2919, 43]                --\n",
       "│    │    └─LayerNorm: 3-9               [2919, 43]                86\n",
       "│    │    └─Sequential: 3-10             [2919, 43]                178,219\n",
       "│    │    └─Dropout: 3-11                [2919, 43]                --\n",
       "│    │    └─LayerNorm: 3-12              [2919, 43]                86\n",
       "│    └─EncoderLayer: 2-3                 [2919, 43]                --\n",
       "│    │    └─MultiheadAttention: 3-13     [2919, 43]                7,568\n",
       "│    │    └─Dropout: 3-14                [2919, 43]                --\n",
       "│    │    └─LayerNorm: 3-15              [2919, 43]                86\n",
       "│    │    └─Sequential: 3-16             [2919, 43]                178,219\n",
       "│    │    └─Dropout: 3-17                [2919, 43]                --\n",
       "│    │    └─LayerNorm: 3-18              [2919, 43]                86\n",
       "│    └─EncoderLayer: 2-4                 [2919, 43]                --\n",
       "│    │    └─MultiheadAttention: 3-19     [2919, 43]                7,568\n",
       "│    │    └─Dropout: 3-20                [2919, 43]                --\n",
       "│    │    └─LayerNorm: 3-21              [2919, 43]                86\n",
       "│    │    └─Sequential: 3-22             [2919, 43]                178,219\n",
       "│    │    └─Dropout: 3-23                [2919, 43]                --\n",
       "│    │    └─LayerNorm: 3-24              [2919, 43]                86\n",
       "│    └─EncoderLayer: 2-5                 [2919, 43]                --\n",
       "│    │    └─MultiheadAttention: 3-25     [2919, 43]                7,568\n",
       "│    │    └─Dropout: 3-26                [2919, 43]                --\n",
       "│    │    └─LayerNorm: 3-27              [2919, 43]                86\n",
       "│    │    └─Sequential: 3-28             [2919, 43]                178,219\n",
       "│    │    └─Dropout: 3-29                [2919, 43]                --\n",
       "│    │    └─LayerNorm: 3-30              [2919, 43]                86\n",
       "│    └─EncoderLayer: 2-6                 [2919, 43]                --\n",
       "│    │    └─MultiheadAttention: 3-31     [2919, 43]                7,568\n",
       "│    │    └─Dropout: 3-32                [2919, 43]                --\n",
       "│    │    └─LayerNorm: 3-33              [2919, 43]                86\n",
       "│    │    └─Sequential: 3-34             [2919, 43]                178,219\n",
       "│    │    └─Dropout: 3-35                [2919, 43]                --\n",
       "│    │    └─LayerNorm: 3-36              [2919, 43]                86\n",
       "==========================================================================================\n",
       "Total params: 1,115,754\n",
       "Trainable params: 1,115,754\n",
       "Non-trainable params: 0\n",
       "Total mult-adds (Units.GIGABYTES): 3.12\n",
       "==========================================================================================\n",
       "Input size (MB): 0.50\n",
       "Forward/backward pass size (MB): 305.02\n",
       "Params size (MB): 4.28\n",
       "Estimated Total Size (MB): 309.81\n",
       "=========================================================================================="
      ]
     },
     "execution_count": 538,
     "metadata": {},
     "output_type": "execute_result"
    }
   ],
   "source": [
    "try:\n",
    "    import torchinfo\n",
    "except:\n",
    "    !pip install torchinfo\n",
    "    import torchinfo\n",
    "    \n",
    "from torchinfo import summary\n",
    "summary(encoder,input_size = [src_input.shape])"
   ]
  },
  {
   "cell_type": "code",
   "execution_count": 507,
   "id": "a29eda0b-0ce0-4a7f-b733-0f9416af2c8b",
   "metadata": {},
   "outputs": [
    {
     "data": {
      "text/plain": [
       "array(['RL', 'Pave', nan, 'Reg', 'Lvl', 'AllPub', 'Inside', 'Gtl',\n",
       "       'CollgCr', 'Norm', 'Norm', '1Fam', '2Story', 'Gable', 'CompShg',\n",
       "       'VinylSd', 'VinylSd', 'BrkFace', 'Gd', 'TA', 'PConc', 'Gd', 'TA',\n",
       "       'No', 'GLQ', 'Unf', 'GasA', 'Ex', 'Y', 'SBrkr', 'Gd', 'Typ', nan,\n",
       "       'Attchd', 'RFn', 'TA', 'TA', 'Y', nan, nan, nan, 'WD', 'Normal'],\n",
       "      dtype=object)"
      ]
     },
     "execution_count": 507,
     "metadata": {},
     "output_type": "execute_result"
    }
   ],
   "source": [
    "cat_col_indices_values_df.values[0]"
   ]
  },
  {
   "cell_type": "code",
   "execution_count": 508,
   "id": "35598e48-6489-4fc5-9d12-467ed0bd16d1",
   "metadata": {},
   "outputs": [],
   "source": [
    "# torch.manual_seed(42)\n",
    "# # Example input tensor\n",
    "# src_input = cat_col_indices_values_df.values\n",
    "# src_input = torch.Tensor(src_input)\n",
    "# print(\"Source Input\",src_input)\n",
    "# # enc=encoder(src_input)"
   ]
  },
  {
   "cell_type": "code",
   "execution_count": 509,
   "id": "753d5a78-d7de-4cca-a32c-2cbb9191ec1e",
   "metadata": {},
   "outputs": [],
   "source": [
    "def min_max_scaling(data):\n",
    "    min_val = data.min()\n",
    "    max_val = data.max()\n",
    "    scaled_data = (data - min_val) / (max_val - min_val)\n",
    "    return scaled_data\n"
   ]
  },
  {
   "cell_type": "code",
   "execution_count": 510,
   "id": "9a5e348c-c12a-49cf-b158-e584570d0418",
   "metadata": {},
   "outputs": [],
   "source": [
    "def z_score_scaling(data):\n",
    "    mean = data.mean()\n",
    "    std_dev = data.std()\n",
    "    scaled_data = (data - mean) / std_dev\n",
    "    return scaled_data\n"
   ]
  },
  {
   "cell_type": "code",
   "execution_count": 511,
   "id": "4bfbd7e2-2639-4a85-9ea6-ec7347fea067",
   "metadata": {
    "tags": []
   },
   "outputs": [],
   "source": [
    "import numpy as np"
   ]
  },
  {
   "cell_type": "code",
   "execution_count": 512,
   "id": "2b96f01c-fb12-447a-bc11-69c99ca7c568",
   "metadata": {
    "tags": []
   },
   "outputs": [
    {
     "data": {
      "text/plain": [
       "nan"
      ]
     },
     "execution_count": 512,
     "metadata": {},
     "output_type": "execute_result"
    }
   ],
   "source": [
    "val = np.nan\n",
    "val"
   ]
  },
  {
   "cell_type": "code",
   "execution_count": 513,
   "id": "8755fa14-f473-4fc4-8555-9a22c6652f46",
   "metadata": {
    "tags": []
   },
   "outputs": [],
   "source": [
    "if scaled_data == val:\n",
    "    scaled_data = 0\n",
    "    print(scaled_data)"
   ]
  },
  {
   "cell_type": "code",
   "execution_count": 514,
   "id": "9651cdc8-35b7-41ec-912c-cec49fedaaca",
   "metadata": {
    "tags": []
   },
   "outputs": [
    {
     "data": {
      "text/plain": [
       "0"
      ]
     },
     "execution_count": 514,
     "metadata": {},
     "output_type": "execute_result"
    }
   ],
   "source": [
    "scaled_data"
   ]
  },
  {
   "cell_type": "code",
   "execution_count": 515,
   "id": "38322fee-ac02-4c9d-8447-361db549e1b1",
   "metadata": {},
   "outputs": [],
   "source": [
    "def robust_scaling(data):\n",
    "\n",
    "    median = np.median(data, axis=0)\n",
    "    q1 = np.percentile(data, 25, axis=0)\n",
    "    q3 = np.percentile(data, 75, axis=0)\n",
    "    iqr = q3 - q1\n",
    "    scaled_data = (data - median) / iqr\n",
    "    val = np.nan\n",
    "    for i in data:\n",
    "        if i == val:\n",
    "            i = 0\n",
    "    return scaled_data"
   ]
  },
  {
   "cell_type": "code",
   "execution_count": 516,
   "id": "4dafc9f5-f30b-4be4-a94e-d15e4da35b1e",
   "metadata": {},
   "outputs": [],
   "source": [
    "for i in combined_df:\n",
    "    if combined_df[i].isnull().sum() == 0:\n",
    "        continue\n",
    "    else:\n",
    "        combined_df[i].fillna((combined_df[i].mean()), inplace=True)"
   ]
  },
  {
   "cell_type": "code",
   "execution_count": 517,
   "id": "f7c54611-fd04-4a8e-93d5-da42a3882422",
   "metadata": {},
   "outputs": [],
   "source": [
    "def preprocess(train_df,cat_col_indices=cat_col_indices,\n",
    "               numeric_cols_indices=numeric_cols_indices,\n",
    "               scaling=z_score_scaling,\n",
    "               feature_map=feature_map,\n",
    "               encoder=encoder,random_seed=42):\n",
    "    \n",
    "    cat_col_indices_values_df = pd.DataFrame(train_df.iloc[:, cat_col_indices].values, columns=train_df.iloc[:, cat_col_indices].columns)\n",
    "    # print(\"Categorical features\\n\",cat_col_indices_values_df.head())\n",
    "    numeric_cols_indices_values_df = pd.DataFrame(train_df.iloc[:, numeric_cols_indices].values, columns=train_df.iloc[:, numeric_cols_indices].columns)\n",
    "    # print(\"Continouns Variable\",numeric_cols_indices_values_df.head())\n",
    "    \n",
    "    # Map the values in train_df to numerical indices using feature_map\n",
    "    mapped_cat_col_indices_values_df = cat_col_indices_values_df.applymap(lambda x: feature_map.get(x, x))\n",
    "    \n",
    "\n",
    "    # print(\"Mapped Cat_col\",mapped_cat_col_indices_values_df.head())\n",
    "   \n",
    "    # Example input tensor\n",
    "    src_input = mapped_cat_col_indices_values_df.values\n",
    "    src_input = torch.Tensor(src_input)\n",
    "    # print(\"Source Input\",src_input)\n",
    "    \n",
    "    torch.manual_seed(42)\n",
    "    new = []\n",
    "    enc_values = []\n",
    "    \n",
    "    for i in np.arange(len(src_input)):\n",
    "        new.append(encoder(src_input[i].unsqueeze(dim=0)))\n",
    "        \n",
    "\n",
    "    for i in new:\n",
    "        enc_values.append(i.squeeze().detach().numpy())\n",
    "        \n",
    "    enc_values = pd.DataFrame(enc_values)\n",
    "    enc_values.head()\n",
    "    # print(enc_values[:5])\n",
    "    enc_values.columns = cat_col_indices_values_df.columns\n",
    "        \n",
    "    if scaling == min_max_scaling:\n",
    "        scale = numeric_cols_indices_values_df.apply(min_max_scaling)\n",
    "        # print(\"Categorical Value Scaling\",scale.head())\n",
    "        \n",
    "    elif scaling == z_score_scaling:\n",
    "        scale = numeric_cols_indices_values_df.apply(z_score_scaling)\n",
    "        # print(\"Numerical Value scaling\",scale.head())\n",
    "        \n",
    "    elif scaling == robust_scaling:\n",
    "        scale = numeric_cols_indices_values_df.apply(robust_scaling)\n",
    "    \n",
    "    else:\n",
    "         scale = numeric_cols_indices_values_df.apply(scale)\n",
    "        \n",
    "    df = pd.concat([enc_values,scale],axis=1)\n",
    "    \n",
    "    return df"
   ]
  },
  {
   "cell_type": "code",
   "execution_count": 518,
   "id": "866e0b39-3093-44db-858f-e17caa20b9c0",
   "metadata": {
    "tags": []
   },
   "outputs": [],
   "source": [
    "import numpy as np"
   ]
  },
  {
   "cell_type": "code",
   "execution_count": 519,
   "id": "b9fab893-8e11-4d8d-be2a-41b9ac16d7e4",
   "metadata": {
    "tags": []
   },
   "outputs": [],
   "source": [
    "from sklearn.model_selection import train_test_split"
   ]
  },
  {
   "cell_type": "code",
   "execution_count": 520,
   "id": "4c84912f-51be-42c6-95d6-0cbbcd6a85f3",
   "metadata": {
    "tags": []
   },
   "outputs": [],
   "source": [
    "def run_model(model,X_train=X_train,y_train=y_train,X_test=X_val,y_test=y_val):\n",
    "\n",
    "    model.fit(X_train,y_train)\n",
    "\n",
    "    y_train_pred = model.predict(X_train)\n",
    "    y_test_pred = model.predict(X_test)\n",
    "\n",
    "    model_r2_score = r2_score(y_train,y_train_pred).round(4)\n",
    "    model_mse = mean_squared_error(y_train,y_train_pred).round(4)\n",
    "    model_rmse = np.sqrt(model_mse).round(4)\n",
    "\n",
    "    model_test_r2_score = r2_score(y_test,y_test_pred).round(4)\n",
    "    model_test_mse = mean_squared_error(y_test,y_test_pred).round(4)\n",
    "    model_test_rmse = np.sqrt(model_test_mse).round(4)\n",
    "\n",
    "    print(\"Model Performance For Traning Set\")\n",
    "    print(\"--\"*5)\n",
    "    print(\"r2_score: \", model_r2_score)\n",
    "    print(\"mean squared error: \", model_mse)\n",
    "    print(\"rmse: \", model_test_rmse)\n",
    "    print(\"--\"*5)\n",
    "\n",
    "    print(\"Model Performance For Test Set\")\n",
    "    print(\"--\"*5)\n",
    "    print(\"r2_score: \", model_test_r2_score)\n",
    "    print(\"mean squared error: \", model_test_mse)\n",
    "    print(\"rmse: \", model_test_rmse)\n",
    "    print(\"--\"*5)\n",
    "    print(model)\n",
    "    print(\"__\"*5)\n",
    "\n",
    "    model_name = model.__repr__()\n",
    "\n",
    "    # Check if the length of the model name is greater than 20\n",
    "    if len(model_name) > 20:\n",
    "        # Take the first ten letters of the model name\n",
    "        model_name = model_name[:10]\n",
    "\n",
    "    return {\"Model Name\" : model_name,\n",
    "            \"r2_score\" : model_test_r2_score,\n",
    "            \"mean squared error\" : model_test_mse,\n",
    "            \"rmse\" : model_test_rmse}\n"
   ]
  },
  {
   "cell_type": "markdown",
   "id": "8dbd34ba-066d-4290-96e7-c6aeaf5dae1a",
   "metadata": {},
   "source": [
    "### STOP"
   ]
  },
  {
   "cell_type": "code",
   "execution_count": 524,
   "id": "2c7e6664-d0f0-4667-a6ae-c95211b95aad",
   "metadata": {},
   "outputs": [
    {
     "name": "stdout",
     "output_type": "stream",
     "text": [
      "Model Performance For Traning Set\n",
      "----------\n",
      "r2_score:  0.7889\n",
      "mean squared error:  1281968999.7079\n",
      "rmse:  36073.9351\n",
      "----------\n",
      "Model Performance For Test Set\n",
      "----------\n",
      "r2_score:  0.8142\n",
      "mean squared error:  1301328793.253\n",
      "rmse:  36073.9351\n",
      "----------\n",
      "LassoCV(cv=5, random_state=24)\n",
      "__________\n"
     ]
    }
   ],
   "source": [
    "from sklearn.linear_model import LassoCV\n",
    "las = LassoCV(random_state = 24,cv=5)\n",
    "\n",
    "run_model(las)\n",
    "pred = las.predict(test)\n",
    "# submission_df = pd.DataFrame({'Id': test_id, 'SalePrice': pred})\n",
    "# submission_df.to_csv('lasso.csv', index=False)"
   ]
  },
  {
   "cell_type": "code",
   "execution_count": 525,
   "id": "3326e0f6-79cb-4578-b4ce-268e17eae4b1",
   "metadata": {
    "tags": []
   },
   "outputs": [],
   "source": [
    "from sklearn.model_selection import train_test_split, KFold, GridSearchCV"
   ]
  },
  {
   "cell_type": "code",
   "execution_count": 531,
   "id": "6851f83a-a9f3-46d8-8786-d7f5e5e7a99e",
   "metadata": {
    "tags": []
   },
   "outputs": [
    {
     "name": "stdout",
     "output_type": "stream",
     "text": [
      "Model Performance For Traning Set\n",
      "----------\n",
      "r2_score:  0.9481\n",
      "mean squared error:  314962278.8715\n",
      "rmse:  30715.8475\n",
      "----------\n",
      "Model Performance For Test Set\n",
      "----------\n",
      "r2_score:  0.8653\n",
      "mean squared error:  943463286.5488\n",
      "rmse:  30715.8475\n",
      "----------\n",
      "RandomForestRegressor(max_leaf_nodes=60, n_estimators=200)\n",
      "__________\n",
      "Model Performance For Traning Set\n",
      "----------\n",
      "r2_score:  0.9485\n",
      "mean squared error:  312746411.3635\n",
      "rmse:  30524.0059\n",
      "----------\n",
      "Model Performance For Test Set\n",
      "----------\n",
      "r2_score:  0.867\n",
      "mean squared error:  931714936.0827\n",
      "rmse:  30524.0059\n",
      "----------\n",
      "RandomForestRegressor(max_leaf_nodes=60, n_estimators=200)\n",
      "__________\n",
      "Model Performance For Traning Set\n",
      "----------\n",
      "r2_score:  0.9493\n",
      "mean squared error:  307572074.4734\n",
      "rmse:  30656.9444\n",
      "----------\n",
      "Model Performance For Test Set\n",
      "----------\n",
      "r2_score:  0.8658\n",
      "mean squared error:  939848237.0913\n",
      "rmse:  30656.9444\n",
      "----------\n",
      "RandomForestRegressor(max_leaf_nodes=60, n_estimators=200)\n",
      "__________\n",
      "Model Performance For Traning Set\n",
      "----------\n",
      "r2_score:  0.9505\n",
      "mean squared error:  300560292.6383\n",
      "rmse:  30279.3597\n",
      "----------\n",
      "Model Performance For Test Set\n",
      "----------\n",
      "r2_score:  0.8691\n",
      "mean squared error:  916839622.7364\n",
      "rmse:  30279.3597\n",
      "----------\n",
      "RandomForestRegressor(max_leaf_nodes=60, n_estimators=200)\n",
      "__________\n",
      "Model Performance For Traning Set\n",
      "----------\n",
      "r2_score:  0.9506\n",
      "mean squared error:  299690564.5214\n",
      "rmse:  30863.8698\n",
      "----------\n",
      "Model Performance For Test Set\n",
      "----------\n",
      "r2_score:  0.864\n",
      "mean squared error:  952578457.5135\n",
      "rmse:  30863.8698\n",
      "----------\n",
      "RandomForestRegressor(max_leaf_nodes=60, n_estimators=200)\n",
      "__________\n"
     ]
    }
   ],
   "source": [
    "# for name, model in models.items():\n",
    "#     print(f\"Training {name}...\")\n",
    "kf = KFold(n_splits=5, shuffle=True, random_state=42)\n",
    "scores = []\n",
    "for train_index, val_index in kf.split(train_df):\n",
    "   \n",
    "    X_train, X_val = train_df.iloc[train_index], train_df.iloc[val_index]\n",
    "    y_train, y_val = label.iloc[train_index], label.iloc[val_index]\n",
    "\n",
    "    # model.fit(X_train, y_train)\n",
    "    # y_pred = model.predict(X_val)\n",
    "    # rmse = np.sqrt(mean_squared_error(y_val, y_pred))\n",
    "    # scores.append(rmse)\n",
    "    run_model(rfr)\n",
    "    "
   ]
  },
  {
   "cell_type": "code",
   "execution_count": 532,
   "id": "93cb1386-da86-4989-a395-4f5642f3de5c",
   "metadata": {
    "tags": []
   },
   "outputs": [
    {
     "name": "stdout",
     "output_type": "stream",
     "text": [
      "Model Performance For Traning Set\n",
      "----------\n",
      "r2_score:  0.9489\n",
      "mean squared error:  310439628.5097\n",
      "rmse:  30327.904\n",
      "----------\n",
      "Model Performance For Test Set\n",
      "----------\n",
      "r2_score:  0.8687\n",
      "mean squared error:  919781763.0317\n",
      "rmse:  30327.904\n",
      "----------\n",
      "RandomForestRegressor(max_leaf_nodes=60, n_estimators=200)\n",
      "__________\n"
     ]
    },
    {
     "data": {
      "text/plain": [
       "{'Model Name': 'RandomFore',\n",
       " 'r2_score': 0.8687,\n",
       " 'mean squared error': 919781763.0317,\n",
       " 'rmse': 30327.904}"
      ]
     },
     "execution_count": 532,
     "metadata": {},
     "output_type": "execute_result"
    }
   ],
   "source": [
    "run_model(rfr)"
   ]
  },
  {
   "cell_type": "code",
   "execution_count": null,
   "id": "9fb3c794-556b-425d-ac0e-20c18e4fdc41",
   "metadata": {
    "tags": []
   },
   "outputs": [],
   "source": [
    "from sklearn.model_selection import train_test_split, KFold, GridSearchCV\n",
    "from sklearn.metrics import mean_squared_error\n",
    "from sklearn.ensemble import RandomForestRegressor, GradientBoostingRegressor\n",
    "import xgboost as xgb\n",
    "import lightgbm as lgb\n",
    "import catboost as cb"
   ]
  },
  {
   "cell_type": "code",
   "execution_count": null,
   "id": "99ab5457-569b-48e0-92ab-35bb857fe69f",
   "metadata": {
    "tags": []
   },
   "outputs": [],
   "source": [
    "models = {\n",
    "    'RandomForest': RandomForestRegressor(),\n",
    "    'GradientBoosting': GradientBoostingRegressor(),\n",
    "    'XGBoost': xgb.XGBRegressor(),\n",
    "    'LightGBM': lgb.LGBMRegressor(),\n",
    "    'CatBoost': cb.CatBoostRegressor(silent=True)\n",
    "}\n"
   ]
  },
  {
   "cell_type": "code",
   "execution_count": null,
   "id": "9fde0b2c-4482-45e4-99ff-84d19eca3865",
   "metadata": {
    "tags": []
   },
   "outputs": [],
   "source": [
    "data = preprocess(combined_df,scaling=robust_scaling)\n",
    "data.head()"
   ]
  },
  {
   "cell_type": "code",
   "execution_count": null,
   "id": "19b7569d-e149-4d4b-977d-fd59fc2d939e",
   "metadata": {
    "tags": []
   },
   "outputs": [],
   "source": [
    "missing=data.isnull().sum().sort_values(ascending=False)\n",
    "missing=missing.drop(missing[missing==0].index)\n",
    "df = pd.DataFrame(missing)\n",
    "data.drop(df.T.columns,inplace=True,axis=1)\n",
    "# train_df.drop(\"Id\",inplace=True,axis=1)\n",
    "data.head()"
   ]
  },
  {
   "cell_type": "code",
   "execution_count": null,
   "id": "84b0e7bd-8202-4ca9-83bc-a706dbaba894",
   "metadata": {
    "tags": []
   },
   "outputs": [],
   "source": [
    "train_df = data[:train_df.shape[0]]\n",
    "test_df = data[train_df.shape[0]:]"
   ]
  },
  {
   "cell_type": "code",
   "execution_count": null,
   "id": "c03d7d36-c97b-4117-af85-a6c967082311",
   "metadata": {
    "tags": []
   },
   "outputs": [],
   "source": [
    "train.shape"
   ]
  },
  {
   "cell_type": "code",
   "execution_count": null,
   "id": "f0b0a429-6c80-4a1a-9f2e-0a25255151f0",
   "metadata": {
    "tags": []
   },
   "outputs": [],
   "source": [
    "test.shape"
   ]
  },
  {
   "cell_type": "code",
   "execution_count": null,
   "id": "1e97ee00-8e81-4b19-89ba-962fc11c29a3",
   "metadata": {
    "tags": []
   },
   "outputs": [],
   "source": [
    "X_train, X_val, y_train, y_val = train_test_split(train_df,label,random_state=42,test_size=0.25)"
   ]
  },
  {
   "cell_type": "code",
   "execution_count": null,
   "id": "23e5cedb-e3d7-473a-b8b9-4ea2aca4688d",
   "metadata": {
    "tags": []
   },
   "outputs": [],
   "source": [
    "result = []\n",
    "for name, model in models.items():\n",
    "    mod = run_model(model)\n",
    "    # df = pd.DataFrame([run_model(model)])\n",
    "    result.append(mod)"
   ]
  },
  {
   "cell_type": "code",
   "execution_count": null,
   "id": "521cf9a6-8646-4117-8e91-c18daf854449",
   "metadata": {
    "tags": []
   },
   "outputs": [],
   "source": [
    "result"
   ]
  },
  {
   "cell_type": "code",
   "execution_count": null,
   "id": "fa472273-a08f-41f3-8c0f-e92920eb96be",
   "metadata": {
    "tags": []
   },
   "outputs": [],
   "source": [
    "for i in result:\n",
    "    print(i)\n",
    "    columns = i.keys()"
   ]
  },
  {
   "cell_type": "code",
   "execution_count": null,
   "id": "b1e8fa83-500f-459b-aa1a-10ea06f601e8",
   "metadata": {
    "tags": []
   },
   "outputs": [],
   "source": [
    "columns"
   ]
  },
  {
   "cell_type": "code",
   "execution_count": null,
   "id": "df2904ec-27f1-44f7-9dd4-276c84afb06d",
   "metadata": {
    "tags": []
   },
   "outputs": [],
   "source": [
    "import pandas as pd\n",
    "# Create DataFrame\n",
    "# data = [result,random_forest]\n",
    "# print(data)\n",
    "# robust_scaling_df = pd.DataFrame.from_dict(data, orient='index', columns=columns)\n",
    "\n",
    "df = pd.DataFrame(result)\n",
    "\n",
    "# print(robust_scaling_df)\n",
    "print(df.head())"
   ]
  },
  {
   "cell_type": "code",
   "execution_count": null,
   "id": "daa1bbd7-e59b-4066-81e7-17350ec17c1d",
   "metadata": {
    "tags": []
   },
   "outputs": [],
   "source": [
    "df"
   ]
  },
  {
   "cell_type": "code",
   "execution_count": null,
   "id": "bcd4b2b7-0848-45bd-94fb-bd146f8b53dc",
   "metadata": {
    "tags": []
   },
   "outputs": [],
   "source": [
    "import catboost as cb"
   ]
  },
  {
   "cell_type": "code",
   "execution_count": null,
   "id": "11b5d70d-d571-44ff-b67e-aaa5978ecb43",
   "metadata": {
    "tags": []
   },
   "outputs": [],
   "source": [
    "from sklearn.model_selection import GridSearchCV\n",
    "from sklearn.ensemble import RandomForestRegressor, GradientBoostingRegressor\n",
    "import xgboost as xgb\n",
    "import lightgbm as lgb\n",
    "import catboost as cb\n",
    "from mlxtend.regressor import StackingCVRegressor\n",
    "from sklearn.linear_model import Lasso\n",
    "from sklearn.model_selection import train_test_split\n",
    "from sklearn.metrics import mean_squared_error\n",
    "\n",
    "# Define base models\n",
    "base_models = [\n",
    "    RandomForestRegressor(),\n",
    "    GradientBoostingRegressor(),\n",
    "    xgb.XGBRegressor(),\n",
    "    lgb.LGBMRegressor(),\n",
    "    cb.CatBoostRegressor(silent=True)\n",
    "]\n",
    "\n",
    "# Define parameters for grid search\n",
    "parameters = [\n",
    "    {'n_estimators': [50, 100, 200], 'max_depth': [None, 5, 10]},  # RandomForest\n",
    "    {'n_estimators': [50, 100, 200], 'learning_rate': [0.01, 0.1, 0.5]},  # GradientBoosting\n",
    "    {'n_estimators': [50, 100, 200], 'learning_rate': [0.01, 0.1, 0.5]},  # XGBoost\n",
    "    {'n_estimators': [50, 100, 200], 'learning_rate': [0.01, 0.1, 0.5]},  # LightGBM\n",
    "    {'iterations': [50, 100, 200], 'learning_rate': [0.01, 0.1, 0.5]}  # CatBoost\n",
    "]\n",
    "\n",
    "# Train and tune base models\n",
    "tuned_base_models = []\n",
    "for model, params in zip(base_models, parameters):\n",
    "    grid_search = GridSearchCV(model, params, cv=5)\n",
    "    grid_search.fit(X_train, y_train)\n",
    "    best_params = grid_search.best_params_\n",
    "    tuned_model = model.set_params(**best_params)\n",
    "    tuned_base_models.append(tuned_model)\n",
    "\n",
    "# Create StackingCVRegressor with Lasso meta-learner\n",
    "stacking_regressor = StackingCVRegressor(regressors=tuned_base_models,\n",
    "                                         meta_regressor=Lasso(),\n",
    "                                         cv=5,\n",
    "                                         use_features_in_secondary=True,\n",
    "                                         store_train_meta_features=True)\n",
    "\n",
    "# Fit the stacking regressor\n",
    "stacked_res = run_model(stacking_regressor)\n",
    "\n",
    "# # Evaluate on test set\n",
    "# y_pred = stacking_regressor.predict(X_test)\n",
    "# mse = mean_squared_error(y_test, y_pred)\n",
    "# print(\"Mean Squared Error:\", mse)\n"
   ]
  },
  {
   "cell_type": "code",
   "execution_count": null,
   "id": "c521c160-54e9-42ee-b239-2dda078b2b9d",
   "metadata": {
    "tags": []
   },
   "outputs": [],
   "source": [
    "stacked_res"
   ]
  },
  {
   "cell_type": "code",
   "execution_count": null,
   "id": "67bfc677-db99-46bc-a74a-bced9608d412",
   "metadata": {
    "tags": []
   },
   "outputs": [],
   "source": [
    "df2 = pd.DataFrame(stacked_res,index=[0])\n",
    "df2.head()"
   ]
  },
  {
   "cell_type": "code",
   "execution_count": null,
   "id": "242c01bb-7273-4ff1-9535-83d5178c382e",
   "metadata": {
    "tags": []
   },
   "outputs": [],
   "source": [
    "df = pd.concat([df, df2], ignore_index=True)  # Combine row-wise"
   ]
  },
  {
   "cell_type": "code",
   "execution_count": null,
   "id": "1d1bcb9c-085b-4d05-880b-ac3199bada03",
   "metadata": {
    "tags": []
   },
   "outputs": [],
   "source": [
    "from sklearn.linear_model import LinearRegression\n",
    "lr = LinearRegression()"
   ]
  },
  {
   "cell_type": "code",
   "execution_count": null,
   "id": "fb3e9e6a-9ae3-4dc6-bef8-44d44370e273",
   "metadata": {
    "tags": []
   },
   "outputs": [],
   "source": [
    "linear = run_model(lr)"
   ]
  },
  {
   "cell_type": "code",
   "execution_count": null,
   "id": "44779afb-e222-40d3-8a15-fbdce1175021",
   "metadata": {
    "tags": []
   },
   "outputs": [],
   "source": [
    "df3 = pd.DataFrame(linear,index=[0])\n",
    "df3.head()"
   ]
  },
  {
   "cell_type": "code",
   "execution_count": null,
   "id": "f236b5d7-74a9-4a98-bc5f-0ee019338e72",
   "metadata": {
    "tags": []
   },
   "outputs": [],
   "source": [
    "df = pd.concat([df, df3], ignore_index=True)  # Combine row-wise"
   ]
  },
  {
   "cell_type": "code",
   "execution_count": null,
   "id": "a991eea1-b4ed-493a-b679-0e8d754f5449",
   "metadata": {
    "tags": []
   },
   "outputs": [],
   "source": [
    "df"
   ]
  },
  {
   "cell_type": "code",
   "execution_count": null,
   "id": "b55b5d6b-d87b-4c3f-b24a-0b9d5bc4655a",
   "metadata": {
    "tags": []
   },
   "outputs": [],
   "source": [
    "df.to_csv(\"Robust_Scaling_Analysis.csv\")"
   ]
  },
  {
   "cell_type": "markdown",
   "id": "83d2cbc9-f580-452d-8ee3-d62b90888834",
   "metadata": {},
   "source": [
    "### Plot Graphs"
   ]
  },
  {
   "cell_type": "code",
   "execution_count": null,
   "id": "0d7f0d23-0d12-494f-92cf-de6ce691863e",
   "metadata": {},
   "outputs": [],
   "source": [
    "import pandas as pd\n",
    "compare_results = pd.DataFrame([random_forest,cat_boost,stack,stack_model])\n",
    "compare_results"
   ]
  },
  {
   "cell_type": "code",
   "execution_count": null,
   "id": "4d093a50-03f2-4909-bdbe-3bc3fdc50ed6",
   "metadata": {
    "tags": []
   },
   "outputs": [],
   "source": [
    "def plot_graphs(results: Dict[str,List[float]]):\n",
    "    \n",
    "    loss = results['rmse']\n",
    "    "
   ]
  }
 ],
 "metadata": {
  "kernelspec": {
   "display_name": "Python 3 (ipykernel)",
   "language": "python",
   "name": "python3"
  },
  "language_info": {
   "codemirror_mode": {
    "name": "ipython",
    "version": 3
   },
   "file_extension": ".py",
   "mimetype": "text/x-python",
   "name": "python",
   "nbconvert_exporter": "python",
   "pygments_lexer": "ipython3",
   "version": "3.11.5"
  }
 },
 "nbformat": 4,
 "nbformat_minor": 5
}
